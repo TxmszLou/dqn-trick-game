{
  "cells": [
    {
      "cell_type": "code",
      "execution_count": 1,
      "metadata": {
        "id": "oX3eusJ_wOOE"
      },
      "outputs": [],
      "source": [
        "from card_engine import Card_Game, Card_Env, random_agent, get_legal_moves, net_policy, policy_legal_move"
      ]
    },
    {
      "cell_type": "code",
      "execution_count": 2,
      "metadata": {
        "colab": {
          "base_uri": "https://localhost:8080/"
        },
        "id": "-eHqM9YmwOOG",
        "outputId": "2a569b21-7218-4ad7-9467-3b8a24cd531e"
      },
      "outputs": [
        {
          "data": {
            "text/plain": [
              "<contextlib.ExitStack at 0x78ae3b63e110>"
            ]
          },
          "execution_count": 2,
          "metadata": {},
          "output_type": "execute_result"
        }
      ],
      "source": [
        "import math\n",
        "import random\n",
        "from collections import namedtuple, deque\n",
        "import pickle\n",
        "\n",
        "import torch\n",
        "import torch.nn as nn\n",
        "import torch.optim as optim\n",
        "import torch.nn.functional as F\n",
        "\n",
        "import matplotlib\n",
        "import matplotlib.pyplot as plt\n",
        "\n",
        "from itertools import count\n",
        "\n",
        "from tqdm import tqdm\n",
        "\n",
        "# set up matplotlib\n",
        "is_ipython = 'inline' in matplotlib.get_backend()\n",
        "if is_ipython:\n",
        "    from IPython import display\n",
        "\n",
        "plt.ion()"
      ]
    },
    {
      "cell_type": "code",
      "execution_count": 13,
      "metadata": {
        "colab": {
          "base_uri": "https://localhost:8080/"
        },
        "id": "axsV8YrowlxX",
        "outputId": "a0266497-d23a-4207-cfa2-e0117e631186"
      },
      "outputs": [
        {
          "name": "stdout",
          "output_type": "stream",
          "text": [
            "Mounted at /content/drive\n"
          ]
        }
      ],
      "source": [
        "from google.colab import drive\n",
        "drive.mount('/content/drive')"
      ]
    },
    {
      "cell_type": "markdown",
      "metadata": {
        "id": "Q1h52hYwwOOI"
      },
      "source": [
        "# Replay Memory\n",
        "\n",
        "The replay memory is a list of 13 double ended queues (or deques) each of length 10000. An element in the i-th deque is a tuple, called a transition, consisting of the state of the particular game at the agent’s i-th turn, the action that the agent took at that state, the reward the agent received for taking the action, and the state that followed the agent’s action."
      ]
    },
    {
      "cell_type": "code",
      "execution_count": 4,
      "metadata": {
        "id": "ca2dtIVGwOOL"
      },
      "outputs": [],
      "source": [
        "Transition = namedtuple('Transition', ('state', 'action', 'next_state', 'reward'))\n",
        "\n",
        "class ReplayMemory(object):\n",
        "\n",
        "    def __init__(self, capacity):\n",
        "        self.memory = deque([], maxlen=capacity)\n",
        "\n",
        "    def push(self, *args):\n",
        "        # save a transition\n",
        "        self.memory.append(Transition(*args))\n",
        "\n",
        "    def sample(self, batch_size):\n",
        "        return random.sample(self.memory, batch_size)\n",
        "\n",
        "    def __len__(self):\n",
        "        return len(self.memory)"
      ]
    },
    {
      "cell_type": "markdown",
      "metadata": {
        "id": "PaHOzWTQwOOM"
      },
      "source": [
        "# Q network\n",
        "\n",
        "![hi](figures/network-input-output.png)"
      ]
    },
    {
      "cell_type": "code",
      "execution_count": 5,
      "metadata": {
        "id": "kZ8QrNClwOON"
      },
      "outputs": [],
      "source": [
        "class DQN(nn.Module):\n",
        "\n",
        "    # n_input: the current state\n",
        "    #  (1x52)    +  (56x52)       +       (1x52): the current state\n",
        "    #    ^hand      ^who plays each card  ^cards not seen yet\n",
        "    #                       + cards played\n",
        "    # n_output: probability of playing each card\n",
        "    #   (1x52)\n",
        "    def __init__(self, n_input, n_output):\n",
        "        super(DQN, self).__init__()\n",
        "        self.layer1 = nn.Linear(n_input, 128)\n",
        "        self.layer2 = nn.Linear(128, 128)\n",
        "        self.layer3 = nn.Linear(128, n_output)\n",
        "\n",
        "    def forward(self, x):\n",
        "        if x.dtype == torch.float32:\n",
        "            x = F.relu(self.layer1(x))\n",
        "            x = F.relu(self.layer2(x))\n",
        "        else:\n",
        "            x=x.to(torch.float32)\n",
        "            x = F.relu(self.layer1(x))\n",
        "            x = F.relu(self.layer2(x))\n",
        "        return self.layer3(x)"
      ]
    },
    {
      "cell_type": "code",
      "execution_count": 5,
      "metadata": {
        "id": "5L0kCdxKvciv"
      },
      "outputs": [],
      "source": []
    },
    {
      "cell_type": "markdown",
      "metadata": {
        "id": "ytAICBo-wOOP"
      },
      "source": [
        "# Training"
      ]
    },
    {
      "cell_type": "code",
      "execution_count": 6,
      "metadata": {
        "colab": {
          "base_uri": "https://localhost:8080/"
        },
        "id": "FKowXd9DwOOT",
        "outputId": "4bf65ae4-61db-4ad6-ac74-6fd8fb505d01"
      },
      "outputs": [
        {
          "name": "stdout",
          "output_type": "stream",
          "text": [
            "CUDA is available. GPU can be used.\n",
            "Device name: Tesla T4\n"
          ]
        }
      ],
      "source": [
        "# if GPU is to be used\n",
        "device = torch.device(\n",
        "    \"cuda\" if torch.cuda.is_available() else\n",
        "    \"mps\" if torch.backends.mps.is_available() else\n",
        "    \"cpu\"\n",
        ")\n",
        "if torch.cuda.is_available():\n",
        "    print(\"CUDA is available. GPU can be used.\")\n",
        "    print(f\"Device name: {torch.cuda.get_device_name(0)}\")\n",
        "else:\n",
        "    print(\"CUDA is not available. Using CPU.\")\n"
      ]
    },
    {
      "cell_type": "markdown",
      "metadata": {
        "id": "fgyAmq-3vciz"
      },
      "source": [
        "### Hyperparameters and initializing the networks"
      ]
    },
    {
      "cell_type": "code",
      "execution_count": 7,
      "metadata": {
        "colab": {
          "base_uri": "https://localhost:8080/"
        },
        "id": "Idw8ctzvwOOV",
        "outputId": "fd209a3c-5967-4946-c6be-6926d0e7ac24"
      },
      "outputs": [
        {
          "name": "stderr",
          "output_type": "stream",
          "text": [
            "<ipython-input-7-d0887a528fa9>:42: FutureWarning: You are using `torch.load` with `weights_only=False` (the current default value), which uses the default pickle module implicitly. It is possible to construct malicious pickle data which will execute arbitrary code during unpickling (See https://github.com/pytorch/pytorch/blob/main/SECURITY.md#untrusted-models for more details). In a future release, the default value for `weights_only` will be flipped to `True`. This limits the functions that could be executed during unpickling. Arbitrary objects will no longer be allowed to be loaded via this mode unless they are explicitly allowlisted by the user via `torch.serialization.add_safe_globals`. We recommend you start setting `weights_only=True` for any use case where you don't have full control of the loaded file. Please open an issue on GitHub for any issues related to this experimental feature.\n",
            "  foreign_net.load_state_dict(torch.load(foreign_weight))\n"
          ]
        }
      ],
      "source": [
        "EPS_START = 1\n",
        "EPS_END = 0.1\n",
        "EPS_DECAY = 5000\n",
        "\n",
        "BATCH_SIZE = 100\n",
        "MEMORY_SIZE = 10000\n",
        "\n",
        "# Learning rate of the optimizer\n",
        "LR = 1e-4\n",
        "\n",
        "# soft update rate\n",
        "TAU = 0.005\n",
        "\n",
        "# future discount\n",
        "GAMMA = 0.5\n",
        "\n",
        "\n",
        "env = Card_Env()\n",
        "state = env.game.get_network_input()\n",
        "\n",
        "n_input = len(state)\n",
        "n_actions = 52\n",
        "\n",
        "policy_net = DQN(n_input, n_actions).to(device)\n",
        "# use a target network to prevent oscillation or divergence\n",
        "target_net = DQN(n_input, n_actions).to(device)\n",
        "target_net.load_state_dict(policy_net.state_dict())\n",
        "# target_net.load_state_dict(torch.load('ev_working_function.pth'))\n",
        "\n",
        "\n",
        "optimizer = optim.AdamW(policy_net.parameters(), lr=LR, amsgrad=True)\n",
        "memory = {turn: ReplayMemory(MEMORY_SIZE) for turn in range(13)}\n",
        "\n",
        "steps_done = 0\n",
        "\n",
        "foreign_weight = 'ev_q_function_output_outside_folder.pth'\n",
        "\n",
        "foreign_net = DQN(n_input, n_actions).to(device)\n",
        "if device == torch.device('cpu'):\n",
        "    foreign_net.load_state_dict(torch.load(foreign_weight, map_location=torch.device('cpu')))\n",
        "else:\n",
        "    foreign_net.load_state_dict(torch.load(foreign_weight))\n",
        "\n",
        "env_against_net = Card_Env(foreign_policy= lambda game : net_policy(foreign_net, game))\n",
        "\n",
        "episode_durations = []\n",
        "episode_rewards = []"
      ]
    },
    {
      "cell_type": "markdown",
      "metadata": {
        "id": "px2xHnrlvci1"
      },
      "source": [
        "\n",
        "### The $\\epsilon$-greedy policy used when training"
      ]
    },
    {
      "cell_type": "code",
      "execution_count": 8,
      "metadata": {
        "id": "_juKXZUKwOOW"
      },
      "outputs": [],
      "source": [
        "'''\n",
        "Given the game state, select an action by the epsilon-greedy policy\n",
        "'''\n",
        "def select_action(game):\n",
        "    global steps_done\n",
        "    sample = random.random()\n",
        "    eps_threshold = EPS_END + (EPS_START - EPS_END) * \\\n",
        "        math.exp(-1. * steps_done / EPS_DECAY)\n",
        "    steps_done += 1\n",
        "\n",
        "    # epsilon-greedy choice\n",
        "\n",
        "    if sample > eps_threshold:\n",
        "        with torch.no_grad():\n",
        "            # return the index of the card with highest probability\n",
        "            # predicted from the policy net\n",
        "            return policy_legal_move(policy_net, game.get_network_input())\n",
        "    else:\n",
        "        # random select a legal action\n",
        "        return torch.tensor([[game.sample_legal_move()]], device=device, dtype=torch.long)\n"
      ]
    },
    {
      "cell_type": "code",
      "execution_count": 9,
      "metadata": {
        "id": "L_xDpe5fvci2"
      },
      "outputs": [],
      "source": [
        "def plot_durations_rewards(show_result=False):\n",
        "    fig, ax = plt.subplots(2, 1)\n",
        "\n",
        "    durations_t = torch.tensor(episode_durations, dtype=torch.float)\n",
        "    rewards_t = torch.tensor(episode_rewards, dtype=torch.float)\n",
        "\n",
        "    title = 'Result' if show_result else 'Training...'\n",
        "    ax[0].set_title(f'{title} Duations each Episode')\n",
        "    ax[0].set_xlabel('Episode')\n",
        "    ax[0].set_ylabel('Duration')\n",
        "\n",
        "    ax[1].set_title(f'{title} Rewards each Episode')\n",
        "    ax[1].set_xlabel('Episode')\n",
        "    ax[1].set_ylabel('Reward')\n",
        "\n",
        "    ax[0].plot(durations_t.numpy())\n",
        "    ax[1].plot(rewards_t.numpy())\n",
        "    # Take 100 episode averages and plot them too\n",
        "    if len(durations_t) >= 100:\n",
        "        means = durations_t.unfold(0, 100, 1).mean(1).view(-1)\n",
        "        means = torch.cat((torch.zeros(99), means))\n",
        "        ax[0].plot(means.numpy())\n",
        "\n",
        "    if len(rewards_t) >= 100:\n",
        "        means = rewards_t.unfold(0, 100, 1).mean(1).view(-1)\n",
        "        means = torch.cat((torch.zeros(99), means))\n",
        "        ax[1].plot(means.numpy())\n",
        "\n",
        "    fig.tight_layout()\n",
        "\n",
        "    plt.pause(0.001)  # pause a bit so that plots are updated\n",
        "    if is_ipython:\n",
        "        if not show_result:\n",
        "            display.clear_output(wait=True)\n",
        "            display.display(fig)\n",
        "        else:\n",
        "            display.display(fig)"
      ]
    },
    {
      "cell_type": "markdown",
      "metadata": {
        "id": "Gv9853xFvci3"
      },
      "source": [
        "### A single step optimization of the model using Deep Q-Learning\n",
        "1) samples a batch from memory, concatenates all the tensors into a single one\n",
        "2) computes $Q(s_t, a_t)$ and $V(s_{t+1}) = \\max_a Q(s_{t+1}, a)$, where $s_t$ --($a_t$)--> $s_{t+1}$\n",
        "3) computes the loss\n",
        "4) updates the target network (which is computing $V(s_{t+1}))$ at every step with soft update"
      ]
    },
    {
      "cell_type": "code",
      "execution_count": 10,
      "metadata": {
        "id": "GHpuHErGwOOR"
      },
      "outputs": [],
      "source": [
        "def optimize_model():\n",
        "    transitions = []\n",
        "    for turn, mem in memory.items():\n",
        "        if len(mem) >= BATCH_SIZE:\n",
        "            transitions += mem.sample(BATCH_SIZE)\n",
        "    if transitions == []:\n",
        "        return\n",
        "\n",
        "    # transitions = memory.sample(BATCH_SIZE)\n",
        "    batch = Transition(*zip(*transitions))\n",
        "\n",
        "    # mask the non final states and find the corresponding next states\n",
        "    # We need an illegal move to be a non-final state\n",
        "    # Right now, we are throwing out all the final states which include the case when\n",
        "    # the agent ends the game prematurely after playing an illegal move\n",
        "\n",
        "\n",
        "    non_final_mask = torch.tensor(tuple(map(lambda s: s is not None,\n",
        "                                          batch.next_state)), device=device, dtype=torch.bool)\n",
        "    # print('non_final_mask is', non_final_mask)\n",
        "    non_final_next_states = [s for s in batch.next_state if s is not None]\n",
        "\n",
        "    non_final_next_states = torch.cat(non_final_next_states)\n",
        "    state_batch = torch.cat(batch.state)\n",
        "    action_batch = torch.cat(batch.action)\n",
        "    reward_batch = torch.cat(batch.reward)\n",
        "\n",
        "    # print('reward_batch is', reward_batch)\n",
        "\n",
        "\n",
        "    # compute Q(s_t, a)\n",
        "    # for each state in the batch, find the value of the corresponding action\n",
        "    state_action_values = policy_net(state_batch.to(torch.float)).gather(1, action_batch)\n",
        "\n",
        "    # compute V(s_{t+1}) = max_a Q(s_{t+1}, a) for the next_states using the target_net\n",
        "    next_state_values = torch.zeros(len(transitions), device=device)\n",
        "    # next_state_values = -10.0 * torch.ones(len(transitions), device=device)\n",
        "\n",
        "    if non_final_next_states != []:\n",
        "\n",
        "        with torch.no_grad():\n",
        "            # print(non_final_mask.shape, target_net(non_final_next_states).max(1).values)\n",
        "            next_state_values[non_final_mask] = target_net(non_final_next_states).max(1).values  # these will all be negative!\n",
        "\n",
        "    # R + \\gamma max_a Q(s', a)\n",
        "    expected_state_action_values = (next_state_values * GAMMA) + reward_batch\n",
        "\n",
        "    # compute the Huber loss\n",
        "    criterion = nn.SmoothL1Loss()\n",
        "    loss = criterion(state_action_values, expected_state_action_values.unsqueeze(1))\n",
        "\n",
        "    # back propagate\n",
        "    optimizer.zero_grad()\n",
        "    loss.backward()\n",
        "\n",
        "    torch.nn.utils.clip_grad_value_(policy_net.parameters(), 100)\n",
        "    optimizer.step()\n"
      ]
    },
    {
      "cell_type": "code",
      "execution_count": 11,
      "metadata": {
        "id": "CCDMv6TuwOOU"
      },
      "outputs": [],
      "source": [
        "def move_to_card(move):\n",
        "    return ['2','3','4','5','6','7','8','9','10','J','Q','K','A'][move % 13], ['C', 'D', 'H', 'S'][int(move / 13)]\n",
        "\n",
        "def simulate_game(policy, verbose=False, from_move=0):\n",
        "    with torch.no_grad():\n",
        "        moves_played = 0\n",
        "        active_player = from_move % 4\n",
        "        if verbose:\n",
        "            print(f\"Starting new game as player {active_player} from turn {from_move}.\")\n",
        "        test_game = Card_Game()\n",
        "        for turn in range(52):\n",
        "            if test_game.current_player != active_player or turn < from_move:\n",
        "                move = test_game.sample_legal_move()\n",
        "            else:\n",
        "                # print(policy_net(test_game.get_network_input().to(device)))\n",
        "                moves_played += 1\n",
        "                move = policy_legal_move(policy_net, test_game.get_network_input()).item()\n",
        "                # move = policy_net(test_game.get_network_input().to(device)).argmax().item()\n",
        "                if not(move in test_game.get_legal_moves()):\n",
        "                    if verbose:\n",
        "                        print(f\"Tried to play illegal move {move_to_card(move)}\")\n",
        "                    return moves_played\n",
        "            if verbose:\n",
        "                print(f\"Player {test_game.current_player} plays {move_to_card(move)}\")\n",
        "            test_game.play_card(move)\n",
        "            if turn % 4 == 3 and verbose:\n",
        "                print()\n",
        "        return moves_played+1"
      ]
    },
    {
      "cell_type": "markdown",
      "metadata": {
        "id": "XhEguuymvci4"
      },
      "source": [
        "\n",
        "### The main training loop"
      ]
    },
    {
      "cell_type": "code",
      "execution_count": 14,
      "metadata": {
        "colab": {
          "base_uri": "https://localhost:8080/",
          "height": 947
        },
        "id": "iKDssjijwOOX",
        "outputId": "957ca099-0c7d-4037-8ccc-a62377ab5fa1"
      },
      "outputs": [
        {
          "data": {
            "image/png": "[encoded data removed]",
            "text/plain": [
              "<Figure size 640x480 with 2 Axes>"
            ]
          },
          "metadata": {},
          "output_type": "display_data"
        },
        {
          "name": "stdout",
          "output_type": "stream",
          "text": [
            "Trained 40000 episodes\n",
            "Average reward per move: 0.262.\n",
            "Average simulated game duration: 14.0\n",
            "Distribution of simulated game lengths: [0, 0, 0, 0, 0, 0, 0, 0, 0, 0, 0, 0, 0, 100]\n",
            "Memory bank: [10000, 10000, 10000, 10000, 10000, 10000, 10000, 10000, 10000, 10000, 10000, 10000, 10000]\n",
            "\n"
          ]
        },
        {
          "ename": "KeyboardInterrupt",
          "evalue": "",
          "output_type": "error",
          "traceback": [
            "\u001b[0;31m---------------------------------------------------------------------------\u001b[0m",
            "\u001b[0;31mKeyboardInterrupt\u001b[0m                         Traceback (most recent call last)",
            "\u001b[0;32m<ipython-input-14-ea70f460f3a3>\u001b[0m in \u001b[0;36m<cell line: 9>\u001b[0;34m()\u001b[0m\n\u001b[1;32m     44\u001b[0m \u001b[0;34m\u001b[0m\u001b[0m\n\u001b[1;32m     45\u001b[0m     \u001b[0;32mfor\u001b[0m \u001b[0mt\u001b[0m \u001b[0;32min\u001b[0m \u001b[0mcount\u001b[0m\u001b[0;34m(\u001b[0m\u001b[0;34m)\u001b[0m\u001b[0;34m:\u001b[0m\u001b[0;34m\u001b[0m\u001b[0;34m\u001b[0m\u001b[0m\n\u001b[0;32m---> 46\u001b[0;31m         \u001b[0maction\u001b[0m \u001b[0;34m=\u001b[0m \u001b[0mselect_action\u001b[0m\u001b[0;34m(\u001b[0m\u001b[0menv_against_net\u001b[0m\u001b[0;34m.\u001b[0m\u001b[0mgame\u001b[0m\u001b[0;34m)\u001b[0m\u001b[0;34m\u001b[0m\u001b[0;34m\u001b[0m\u001b[0m\n\u001b[0m\u001b[1;32m     47\u001b[0m         \u001b[0;31m# Select action based on policy network\u001b[0m\u001b[0;34m\u001b[0m\u001b[0;34m\u001b[0m\u001b[0m\n\u001b[1;32m     48\u001b[0m \u001b[0;34m\u001b[0m\u001b[0m\n",
            "\u001b[0;32m<ipython-input-8-d2f030f883f9>\u001b[0m in \u001b[0;36mselect_action\u001b[0;34m(game)\u001b[0m\n\u001b[1;32m     15\u001b[0m             \u001b[0;31m# return the index of the card with highest probability\u001b[0m\u001b[0;34m\u001b[0m\u001b[0;34m\u001b[0m\u001b[0m\n\u001b[1;32m     16\u001b[0m             \u001b[0;31m# predicted from the policy net\u001b[0m\u001b[0;34m\u001b[0m\u001b[0;34m\u001b[0m\u001b[0m\n\u001b[0;32m---> 17\u001b[0;31m             \u001b[0;32mreturn\u001b[0m \u001b[0mpolicy_legal_move\u001b[0m\u001b[0;34m(\u001b[0m\u001b[0mpolicy_net\u001b[0m\u001b[0;34m,\u001b[0m \u001b[0mgame\u001b[0m\u001b[0;34m.\u001b[0m\u001b[0mget_network_input\u001b[0m\u001b[0;34m(\u001b[0m\u001b[0;34m)\u001b[0m\u001b[0;34m)\u001b[0m\u001b[0;34m\u001b[0m\u001b[0;34m\u001b[0m\u001b[0m\n\u001b[0m\u001b[1;32m     18\u001b[0m     \u001b[0;32melse\u001b[0m\u001b[0;34m:\u001b[0m\u001b[0;34m\u001b[0m\u001b[0;34m\u001b[0m\u001b[0m\n\u001b[1;32m     19\u001b[0m         \u001b[0;31m# random select a legal action\u001b[0m\u001b[0;34m\u001b[0m\u001b[0;34m\u001b[0m\u001b[0m\n",
            "\u001b[0;32m/content/card_engine.py\u001b[0m in \u001b[0;36mpolicy_legal_move\u001b[0;34m(net, input)\u001b[0m\n\u001b[1;32m    339\u001b[0m         \u001b[0;34m\"cpu\"\u001b[0m\u001b[0;34m\u001b[0m\u001b[0;34m\u001b[0m\u001b[0m\n\u001b[1;32m    340\u001b[0m     )\n\u001b[0;32m--> 341\u001b[0;31m     \u001b[0mlegal_mask\u001b[0m \u001b[0;34m=\u001b[0m \u001b[0mget_legal_moves\u001b[0m\u001b[0;34m(\u001b[0m\u001b[0minput\u001b[0m\u001b[0;34m)\u001b[0m\u001b[0;34m.\u001b[0m\u001b[0mto\u001b[0m\u001b[0;34m(\u001b[0m\u001b[0mdevice\u001b[0m\u001b[0;34m)\u001b[0m\u001b[0;34m\u001b[0m\u001b[0;34m\u001b[0m\u001b[0m\n\u001b[0m\u001b[1;32m    342\u001b[0m     \u001b[0;32mwith\u001b[0m \u001b[0mtorch\u001b[0m\u001b[0;34m.\u001b[0m\u001b[0mno_grad\u001b[0m\u001b[0;34m(\u001b[0m\u001b[0;34m)\u001b[0m\u001b[0;34m:\u001b[0m\u001b[0;34m\u001b[0m\u001b[0;34m\u001b[0m\u001b[0m\n\u001b[1;32m    343\u001b[0m         \u001b[0mx\u001b[0m \u001b[0;34m=\u001b[0m \u001b[0;34m(\u001b[0m\u001b[0mnet\u001b[0m\u001b[0;34m(\u001b[0m\u001b[0minput\u001b[0m\u001b[0;34m.\u001b[0m\u001b[0mto\u001b[0m\u001b[0;34m(\u001b[0m\u001b[0mdevice\u001b[0m\u001b[0;34m)\u001b[0m\u001b[0;34m)\u001b[0m\u001b[0;34m)\u001b[0m \u001b[0;34m*\u001b[0m \u001b[0mlegal_mask\u001b[0m\u001b[0;34m\u001b[0m\u001b[0;34m\u001b[0m\u001b[0m\n",
            "\u001b[0;32m/content/card_engine.py\u001b[0m in \u001b[0;36mget_legal_moves\u001b[0;34m(input)\u001b[0m\n\u001b[1;32m    316\u001b[0m     \u001b[0mhand\u001b[0m\u001b[0;34m,\u001b[0m \u001b[0mstate\u001b[0m\u001b[0;34m,\u001b[0m \u001b[0mwinner_tracker\u001b[0m \u001b[0;34m=\u001b[0m \u001b[0munpack\u001b[0m\u001b[0;34m(\u001b[0m\u001b[0minput\u001b[0m\u001b[0;34m)\u001b[0m\u001b[0;34m\u001b[0m\u001b[0;34m\u001b[0m\u001b[0m\n\u001b[1;32m    317\u001b[0m \u001b[0;34m\u001b[0m\u001b[0m\n\u001b[0;32m--> 318\u001b[0;31m     \u001b[0mcurrent_suit\u001b[0m \u001b[0;34m=\u001b[0m \u001b[0mget_current_suit\u001b[0m\u001b[0;34m(\u001b[0m\u001b[0minput\u001b[0m\u001b[0;34m)\u001b[0m\u001b[0;34m\u001b[0m\u001b[0;34m\u001b[0m\u001b[0m\n\u001b[0m\u001b[1;32m    319\u001b[0m     \u001b[0;32mif\u001b[0m \u001b[0mcurrent_suit\u001b[0m \u001b[0;34m==\u001b[0m \u001b[0;32mNone\u001b[0m\u001b[0;34m:\u001b[0m\u001b[0;34m\u001b[0m\u001b[0;34m\u001b[0m\u001b[0m\n\u001b[1;32m    320\u001b[0m         \u001b[0mcard_idx\u001b[0m \u001b[0;34m=\u001b[0m \u001b[0mhand\u001b[0m\u001b[0;34m.\u001b[0m\u001b[0mnonzero\u001b[0m\u001b[0;34m(\u001b[0m\u001b[0;34m)\u001b[0m\u001b[0;34m.\u001b[0m\u001b[0mflatten\u001b[0m\u001b[0;34m(\u001b[0m\u001b[0;34m)\u001b[0m\u001b[0;34m\u001b[0m\u001b[0;34m\u001b[0m\u001b[0m\n",
            "\u001b[0;32m/content/card_engine.py\u001b[0m in \u001b[0;36mget_current_suit\u001b[0;34m(input)\u001b[0m\n\u001b[1;32m    293\u001b[0m \u001b[0;32mdef\u001b[0m \u001b[0mget_current_suit\u001b[0m\u001b[0;34m(\u001b[0m\u001b[0minput\u001b[0m\u001b[0;34m)\u001b[0m\u001b[0;34m:\u001b[0m\u001b[0;34m\u001b[0m\u001b[0;34m\u001b[0m\u001b[0m\n\u001b[1;32m    294\u001b[0m     \u001b[0m_\u001b[0m\u001b[0;34m,\u001b[0m \u001b[0mstate\u001b[0m\u001b[0;34m,\u001b[0m \u001b[0m_\u001b[0m \u001b[0;34m=\u001b[0m \u001b[0munpack\u001b[0m\u001b[0;34m(\u001b[0m\u001b[0minput\u001b[0m\u001b[0;34m)\u001b[0m\u001b[0;34m\u001b[0m\u001b[0;34m\u001b[0m\u001b[0m\n\u001b[0;32m--> 295\u001b[0;31m     \u001b[0mlast_turn\u001b[0m \u001b[0;34m=\u001b[0m \u001b[0mget_last_turn\u001b[0m\u001b[0;34m(\u001b[0m\u001b[0minput\u001b[0m\u001b[0;34m)\u001b[0m\u001b[0;34m\u001b[0m\u001b[0;34m\u001b[0m\u001b[0m\n\u001b[0m\u001b[1;32m    296\u001b[0m \u001b[0;34m\u001b[0m\u001b[0m\n\u001b[1;32m    297\u001b[0m     \u001b[0;32mif\u001b[0m \u001b[0;34m(\u001b[0m\u001b[0mlast_turn\u001b[0m \u001b[0;34m+\u001b[0m \u001b[0;36m1\u001b[0m\u001b[0;34m)\u001b[0m \u001b[0;34m%\u001b[0m \u001b[0;36m4\u001b[0m \u001b[0;34m==\u001b[0m \u001b[0;36m0\u001b[0m\u001b[0;34m:\u001b[0m\u001b[0;34m\u001b[0m\u001b[0;34m\u001b[0m\u001b[0m\n",
            "\u001b[0;32m/content/card_engine.py\u001b[0m in \u001b[0;36mget_last_turn\u001b[0;34m(input)\u001b[0m\n\u001b[1;32m    281\u001b[0m     \u001b[0mturn_num\u001b[0m \u001b[0;34m=\u001b[0m \u001b[0;36m0\u001b[0m\u001b[0;34m\u001b[0m\u001b[0;34m\u001b[0m\u001b[0m\n\u001b[1;32m    282\u001b[0m \u001b[0;34m\u001b[0m\u001b[0m\n\u001b[0;32m--> 283\u001b[0;31m     \u001b[0;32mwhile\u001b[0m \u001b[0mturn_num\u001b[0m \u001b[0;34m<\u001b[0m \u001b[0;36m52\u001b[0m \u001b[0;32mand\u001b[0m \u001b[0;34m(\u001b[0m\u001b[0;32mnot\u001b[0m \u001b[0mtorch\u001b[0m\u001b[0;34m.\u001b[0m\u001b[0mequal\u001b[0m\u001b[0;34m(\u001b[0m\u001b[0mstate\u001b[0m\u001b[0;34m[\u001b[0m\u001b[0mturn_num\u001b[0m\u001b[0;34m,\u001b[0m \u001b[0;34m:\u001b[0m\u001b[0;34m]\u001b[0m\u001b[0;34m.\u001b[0m\u001b[0mto\u001b[0m\u001b[0;34m(\u001b[0m\u001b[0mdevice\u001b[0m\u001b[0;34m)\u001b[0m\u001b[0;34m,\u001b[0m \u001b[0mtorch\u001b[0m\u001b[0;34m.\u001b[0m\u001b[0mzeros\u001b[0m\u001b[0;34m(\u001b[0m\u001b[0;36m52\u001b[0m\u001b[0;34m)\u001b[0m\u001b[0;34m.\u001b[0m\u001b[0mto\u001b[0m\u001b[0;34m(\u001b[0m\u001b[0mdevice\u001b[0m\u001b[0;34m)\u001b[0m\u001b[0;34m)\u001b[0m\u001b[0;34m)\u001b[0m\u001b[0;34m:\u001b[0m\u001b[0;34m\u001b[0m\u001b[0;34m\u001b[0m\u001b[0m\n\u001b[0m\u001b[1;32m    284\u001b[0m         \u001b[0mturn_num\u001b[0m \u001b[0;34m+=\u001b[0m \u001b[0;36m1\u001b[0m\u001b[0;34m\u001b[0m\u001b[0;34m\u001b[0m\u001b[0m\n\u001b[1;32m    285\u001b[0m \u001b[0;34m\u001b[0m\u001b[0m\n",
            "\u001b[0;31mKeyboardInterrupt\u001b[0m: "
          ]
        }
      ],
      "source": [
        "num_episodes = 500000\n",
        "update_ind = 1000\n",
        "\n",
        "save_ind = 5000\n",
        "\n",
        "rewards_list = []\n",
        "benchmark = (-13, 0)\n",
        "\n",
        "for i_episode in count():\n",
        "    if i_episode % save_ind == 0 and i_episode != 0:\n",
        "        torch.save(policy_net.state_dict(), f'/content/drive/MyDrive/deep-learning/dqn/self-play-{i_episode}.pth')\n",
        "\n",
        "    if i_episode % update_ind == 0 and i_episode != 0:\n",
        "        plot_durations_rewards()\n",
        "        print(f\"Trained {i_episode} episodes\")\n",
        "        avg_reward = sum(rewards_list) / len(rewards_list)\n",
        "        print(f'Average reward per move: {avg_reward}.')\n",
        "        simul_results = []\n",
        "        simul_dist = [0 for i in range(14)]\n",
        "        for g in range(100):\n",
        "            res = simulate_game(policy_net, verbose=False, from_move=random.randint(0,3))\n",
        "            simul_results.append(res)\n",
        "            simul_dist[res-1] += 1\n",
        "        print(f\"Average simulated game duration: {sum(simul_results) / 100}\")\n",
        "        print(f\"Distribution of simulated game lengths: {simul_dist}\")\n",
        "        print(f\"Memory bank: {[len(mem) for i, mem in memory.items()]}\")\n",
        "        if benchmark[0] < avg_reward and i_episode >= num_episodes:\n",
        "            print(\"New benchmark set.\")\n",
        "            # torch.save(policy_net.state_dict(), 'weights/ev_q_function_output.pth')\n",
        "            benchmark = (avg_reward, sum(simul_results) / 100)\n",
        "        rewards_list = []\n",
        "        print()\n",
        "\n",
        "\n",
        "    env_against_net.reset()\n",
        "\n",
        "    player_ind = random.randint(0, 3)\n",
        "    while env_against_net.game.current_player != player_ind:\n",
        "        move = env_against_net.game.sample_legal_move()\n",
        "        env_against_net.game.play_card(move)\n",
        "\n",
        "    current_reward = 0\n",
        "    state = torch.tensor(env_against_net.game.get_network_input(), dtype=torch.float32, device=device).unsqueeze(0)\n",
        "\n",
        "    for t in count():\n",
        "        action = select_action(env_against_net.game)\n",
        "        # Select action based on policy network\n",
        "\n",
        "        # with torch.no_grad():\n",
        "        #     q_values = policy_net(state)\n",
        "        #     action = q_values.max(1)[1].view(1, 1)\n",
        "\n",
        "        # Perform action in the environment\n",
        "        observation, reward, terminated = env_against_net.step(action.item())\n",
        "        rewards_list.append(reward)\n",
        "        reward = torch.tensor([reward], device=device)\n",
        "        done = terminated\n",
        "\n",
        "        current_reward += reward\n",
        "\n",
        "        # Compute next state\n",
        "        if not terminated:\n",
        "            next_state = torch.tensor(observation, dtype=torch.float32, device=device).unsqueeze(0)\n",
        "        else:\n",
        "            next_state = None\n",
        "\n",
        "        # Store transition in memory\n",
        "        # int(env.game.turn_counter / 4)\n",
        "        memory[t].push(state, action, next_state, reward)\n",
        "\n",
        "        # Move to next state\n",
        "        state = next_state\n",
        "\n",
        "        # Perform optimization step\n",
        "        optimize_model()\n",
        "\n",
        "        target_net_state_dict = target_net.state_dict()\n",
        "        policy_net_state_dict = policy_net.state_dict()\n",
        "        for key in policy_net_state_dict:\n",
        "            target_net_state_dict[key] = policy_net_state_dict[key]*TAU + target_net_state_dict[key]*(1-TAU)\n",
        "        target_net.load_state_dict(target_net_state_dict)\n",
        "\n",
        "        if done:\n",
        "            # print(f'Episode {i_episode} ended in {t} steps.')\n",
        "            episode_durations.append(t+1)\n",
        "            episode_rewards.append(current_reward)\n",
        "            break\n",
        "\n",
        "plot_durations_rewards(show_result=True)"
      ]
    },
    {
      "cell_type": "code",
      "execution_count": null,
      "metadata": {
        "id": "FMG87Ll4wOOc",
        "outputId": "d64c7a3d-74f9-4fa1-9ad3-8a5c34d61c45"
      },
      "outputs": [
        {
          "name": "stdout",
          "output_type": "stream",
          "text": [
            "Average simulated game duration of test: 11.1076\n",
            "Average simulated game duration of policy: 11.1212\n",
            "\n",
            "Distribution of game lengths of test: [70, 94, 230, 297, 375, 404, 530, 614, 600, 498, 471, 330, 320, 5167]\n",
            "Distribution of game lengths of policy: [77, 84, 225, 288, 416, 401, 545, 601, 540, 501, 459, 314, 342, 5207]\n"
          ]
        }
      ],
      "source": [
        "# simulate_game(policy_net, verbose=True, from_move=random.randint(0,3))\n",
        "test = DQN(n_input, n_actions).to(device)\n",
        "test.load_state_dict(torch.load('weights/ev_q_function_output.pth'))\n",
        "simul_test = []\n",
        "simul_policy = []\n",
        "with torch.no_grad():\n",
        "    test_dist = [0 for i in range(14)]\n",
        "    policy_dist = [0 for i in range(14)]\n",
        "    for g in range(10000):\n",
        "        res_policy = simulate_game(policy_net, verbose=False, from_move=random.randint(0,3))\n",
        "        res_test = simulate_game(policy_net, verbose=False, from_move=random.randint(0,3))\n",
        "        simul_test.append(res_test)\n",
        "        simul_policy.append(res_policy)\n",
        "        test_dist[res_test-1] += 1\n",
        "        policy_dist[res_policy-1] += 1\n",
        "    print(f\"Average simulated game duration of test: {sum(simul_test) / 10000}\")\n",
        "    print(f\"Average simulated game duration of policy: {sum(simul_policy) / 10000}\")\n",
        "    print()\n",
        "    print(f\"Distribution of game lengths of test: {test_dist}\")\n",
        "    print(f\"Distribution of game lengths of policy: {policy_dist}\")\n"
      ]
    },
    {
      "cell_type": "code",
      "execution_count": 15,
      "metadata": {
        "colab": {
          "base_uri": "https://localhost:8080/"
        },
        "id": "59Lkdi84wOOa",
        "outputId": "dcd61be1-a7f1-4b30-9d88-c54f1de8560d"
      },
      "outputs": [
        {
          "name": "stdout",
          "output_type": "stream",
          "text": [
            "38\n",
            "tensor([[ 0.0000,  1.0000,  1.2537],\n",
            "        [ 1.0000,  0.0000,  1.3532],\n",
            "        [ 2.0000,  0.0000,  1.2689],\n",
            "        [ 3.0000,  0.0000,  1.1994],\n",
            "        [ 4.0000,  0.0000,  1.1457],\n",
            "        [ 5.0000,  0.0000,  1.4923],\n",
            "        [ 6.0000,  0.0000,  1.7192],\n",
            "        [ 7.0000,  1.0000,  0.7723],\n",
            "        [ 8.0000,  0.0000,  1.4805],\n",
            "        [ 9.0000,  0.0000,  1.4919],\n",
            "        [10.0000,  0.0000,  1.4558],\n",
            "        [11.0000,  0.0000,  0.9680],\n",
            "        [12.0000,  0.0000,  2.8290],\n",
            "        [13.0000,  1.0000,  1.1697],\n",
            "        [14.0000,  0.0000,  1.4235],\n",
            "        [15.0000,  0.0000,  1.1526],\n",
            "        [16.0000,  0.0000,  1.2271],\n",
            "        [17.0000,  0.0000,  1.4844],\n",
            "        [18.0000,  1.0000,  1.2145],\n",
            "        [19.0000,  0.0000,  1.2788],\n",
            "        [20.0000,  0.0000,  0.9913],\n",
            "        [21.0000,  0.0000,  1.1411],\n",
            "        [22.0000,  0.0000,  1.7138],\n",
            "        [23.0000,  0.0000,  1.1850],\n",
            "        [24.0000,  0.0000,  1.4464],\n",
            "        [25.0000,  0.0000,  2.3498],\n",
            "        [26.0000,  1.0000,  1.2805],\n",
            "        [27.0000,  0.0000,  1.1470],\n",
            "        [28.0000,  0.0000,  0.6688],\n",
            "        [29.0000,  0.0000,  1.0389],\n",
            "        [30.0000,  0.0000,  1.6031],\n",
            "        [31.0000,  1.0000,  0.8673],\n",
            "        [32.0000,  1.0000,  1.4255],\n",
            "        [33.0000,  0.0000,  1.2142],\n",
            "        [34.0000,  0.0000,  0.3740],\n",
            "        [35.0000,  1.0000,  1.6613],\n",
            "        [36.0000,  0.0000,  1.4629],\n",
            "        [37.0000,  0.0000,  1.7553],\n",
            "        [38.0000,  0.0000,  3.3284],\n",
            "        [39.0000,  0.0000,  1.5373],\n",
            "        [40.0000,  0.0000,  1.7259],\n",
            "        [41.0000,  1.0000,  1.4534],\n",
            "        [42.0000,  0.0000,  1.8914],\n",
            "        [43.0000,  0.0000,  1.6766],\n",
            "        [44.0000,  0.0000,  1.8199],\n",
            "        [45.0000,  0.0000,  1.3997],\n",
            "        [46.0000,  1.0000,  1.2429],\n",
            "        [47.0000,  1.0000,  1.4845],\n",
            "        [48.0000,  1.0000,  1.0030],\n",
            "        [49.0000,  1.0000,  1.6894],\n",
            "        [50.0000,  0.0000,  1.7392],\n",
            "        [51.0000,  0.0000,  3.2210]], device='cuda:0')\n"
          ]
        }
      ],
      "source": [
        "with torch.no_grad():\n",
        "    env.game.reset()\n",
        "    net_input = env.game.get_network_input().to(device)\n",
        "    hand = net_input[:52]\n",
        "    cards = torch.arange(52).to(device)\n",
        "    q_func_policy = policy_net(net_input)\n",
        "    # q_func_test = test(net_input)\n",
        "    print(f'{q_func_policy.argmax()}')\n",
        "    print(torch.stack((cards, hand, q_func_policy)).transpose(0, 1))"
      ]
    },
    {
      "cell_type": "code",
      "execution_count": null,
      "metadata": {
        "id": "WMUwlt3fvci8"
      },
      "outputs": [],
      "source": []
    },
    {
      "cell_type": "code",
      "execution_count": null,
      "metadata": {
        "id": "m-DSoOXzvci8"
      },
      "outputs": [],
      "source": [
        "def save_memory(memory_file):\n",
        "    with open(memory_file, 'wb') as outp:\n",
        "        pickle.dump(memory, outp, pickle.HIGHEST_PROTOCOL)\n",
        "\n",
        "save_memory('saved_memory_data.pkl')"
      ]
    },
    {
      "cell_type": "code",
      "execution_count": null,
      "metadata": {
        "id": "njMfVHa2vci8",
        "scrolled": true
      },
      "outputs": [],
      "source": [
        "def load_memory(memory_file):\n",
        "    with open(memory_file, 'rb') as inp:\n",
        "        return = pickle.load(inp)\n",
        "\n",
        "memory = load_memory('saved_memory_data.pkl')"
      ]
    },
    {
      "cell_type": "code",
      "execution_count": null,
      "metadata": {
        "id": "kMqsy73rwOOb"
      },
      "outputs": [],
      "source": [
        "torch.save(policy_net.state_dict(), 'ev_q_function_output.pth')"
      ]
    },
    {
      "cell_type": "code",
      "execution_count": null,
      "metadata": {
        "id": "aizTajupwOOc",
        "outputId": "b223fa47-b690-4c2b-a18d-3ff115bcf32d"
      },
      "outputs": [
        {
          "name": "stdout",
          "output_type": "stream",
          "text": [
            "Starting new game as player 0 from turn 0.\n",
            "Player 0 plays ('J', 'D')\n",
            "Player 1 plays ('3', 'D')\n",
            "Player 2 plays ('A', 'D')\n",
            "Player 3 plays ('2', 'D')\n",
            "\n",
            "Player 2 plays ('4', 'C')\n",
            "Player 3 plays ('2', 'C')\n",
            "Player 0 plays ('J', 'C')\n",
            "Player 1 plays ('K', 'C')\n",
            "\n",
            "Player 0 plays ('6', 'C')\n",
            "Player 1 plays ('Q', 'C')\n",
            "Player 2 plays ('A', 'C')\n",
            "Player 3 plays ('10', 'C')\n",
            "\n",
            "Player 2 plays ('5', 'D')\n",
            "Player 3 plays ('K', 'D')\n",
            "Player 0 plays ('6', 'D')\n",
            "Player 1 plays ('7', 'D')\n",
            "\n",
            "Player 3 plays ('A', 'H')\n",
            "Player 0 plays ('6', 'H')\n",
            "Player 1 plays ('4', 'H')\n",
            "Player 2 plays ('Q', 'H')\n",
            "\n",
            "Player 3 plays ('5', 'S')\n",
            "Player 0 plays ('4', 'S')\n",
            "Player 1 plays ('8', 'S')\n",
            "Player 2 plays ('6', 'S')\n",
            "\n",
            "Player 1 plays ('7', 'S')\n",
            "Player 2 plays ('10', 'S')\n",
            "Player 3 plays ('2', 'S')\n",
            "Player 0 plays ('3', 'S')\n",
            "\n",
            "Player 2 plays ('9', 'S')\n",
            "Player 3 plays ('10', 'H')\n",
            "Player 0 plays ('J', 'S')\n",
            "Player 1 plays ('K', 'S')\n",
            "\n",
            "Player 0 plays ('J', 'H')\n",
            "Player 1 plays ('8', 'C')\n",
            "Player 2 plays ('7', 'C')\n",
            "Player 3 plays ('2', 'H')\n",
            "\n",
            "Player 0 plays ('9', 'D')\n",
            "Player 1 plays ('4', 'D')\n",
            "Player 2 plays ('9', 'C')\n",
            "Player 3 plays ('10', 'D')\n",
            "\n",
            "Player 0 plays ('3', 'H')\n",
            "Player 1 plays ('Q', 'S')\n",
            "Player 2 plays ('5', 'C')\n",
            "Player 3 plays ('5', 'H')\n",
            "\n",
            "Player 1 plays ('8', 'D')\n",
            "Player 2 plays ('3', 'C')\n",
            "Player 3 plays ('K', 'H')\n",
            "Player 0 plays ('9', 'H')\n",
            "\n",
            "Player 1 plays ('Q', 'D')\n",
            "Player 2 plays ('A', 'S')\n",
            "Player 3 plays ('8', 'H')\n",
            "Player 0 plays ('7', 'H')\n",
            "\n"
          ]
        },
        {
          "data": {
            "text/plain": [
              "14"
            ]
          },
          "execution_count": 50,
          "metadata": {},
          "output_type": "execute_result"
        }
      ],
      "source": [
        "simulate_game(policy_net, verbose=True, from_move=random.randint(0, 3))"
      ]
    }
  ],
  "metadata": {
    "accelerator": "GPU",
    "colab": {
      "gpuType": "T4",
      "machine_shape": "hm",
      "provenance": []
    },
    "kernelspec": {
      "display_name": "Python 3 (ipykernel)",
      "language": "python",
      "name": "python3"
    },
    "language_info": {
      "codemirror_mode": {
        "name": "ipython",
        "version": 3
      },
      "file_extension": ".py",
      "mimetype": "text/x-python",
      "name": "python",
      "nbconvert_exporter": "python",
      "pygments_lexer": "ipython3",
      "version": "3.11.8"
    }
  },
  "nbformat": 4,
  "nbformat_minor": 0
}

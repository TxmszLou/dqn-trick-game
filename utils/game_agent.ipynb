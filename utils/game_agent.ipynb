{
 "cells": [
  {
   "cell_type": "code",
   "execution_count": 1,
   "id": "9dba90aa-88af-4204-88ba-adef13c4fa6f",
   "metadata": {},
   "outputs": [],
   "source": [
    "# import random\n",
    "import torch\n",
    "from card_engine import Card_Game"
   ]
  },
  {
   "cell_type": "code",
   "execution_count": 2,
   "id": "480a6e6e-b425-4163-ad24-37d3796eb8f8",
   "metadata": {},
   "outputs": [
    {
     "name": "stdout",
     "output_type": "stream",
     "text": [
      "tensor(0) tensor(0)\n",
      "tensor(1) tensor(1)\n",
      "tensor(2) tensor(2)\n",
      "tensor(3) tensor(3)\n",
      "tensor(4) tensor(0)\n",
      "tensor(5) tensor(1)\n",
      "tensor(6) tensor(2)\n",
      "tensor(7) tensor(3)\n",
      "tensor(8) tensor(0)\n",
      "tensor(9) tensor(1)\n",
      "tensor(10) tensor(2)\n",
      "tensor(11) tensor(3)\n",
      "tensor(12) tensor(0)\n",
      "tensor(13) tensor(1)\n",
      "tensor(14) tensor(2)\n",
      "tensor(15) tensor(3)\n",
      "tensor(16) tensor(0)\n",
      "tensor(17) tensor(1)\n",
      "tensor(18) tensor(2)\n",
      "tensor(19) tensor(3)\n",
      "tensor(20) tensor(0)\n",
      "tensor(21) tensor(1)\n",
      "tensor(22) tensor(2)\n",
      "tensor(23) tensor(3)\n",
      "tensor(24) tensor(0)\n",
      "tensor(25) tensor(1)\n",
      "tensor(26) tensor(2)\n",
      "tensor(27) tensor(3)\n",
      "tensor(28) tensor(1)\n",
      "tensor(29) tensor(2)\n",
      "tensor(30) tensor(3)\n",
      "tensor(31) tensor(0)\n",
      "tensor(32) tensor(1)\n",
      "tensor(33) tensor(2)\n",
      "tensor(34) tensor(3)\n",
      "tensor(35) tensor(0)\n",
      "tensor(36) tensor(3)\n",
      "tensor(37) tensor(0)\n",
      "tensor(38) tensor(1)\n",
      "tensor(39) tensor(2)\n",
      "tensor(40) tensor(3)\n",
      "tensor(41) tensor(0)\n",
      "tensor(42) tensor(1)\n",
      "tensor(43) tensor(2)\n",
      "tensor(44) tensor(1)\n",
      "tensor(45) tensor(2)\n",
      "tensor(46) tensor(3)\n",
      "tensor(47) tensor(0)\n",
      "tensor(48) tensor(2)\n",
      "tensor(49) tensor(3)\n",
      "tensor(50) tensor(0)\n",
      "tensor(51) tensor(1)\n"
     ]
    },
    {
     "name": "stderr",
     "output_type": "stream",
     "text": [
      "C:\\Users\\evarv\\Documents\\Erdos\\dql-trick-game\\utils\\card_engine.py:56: UserWarning: To copy construct from a tensor, it is recommended to use sourceTensor.clone().detach() or sourceTensor.clone().detach().requires_grad_(True), rather than torch.tensor(sourceTensor).\n",
      "  card = torch.nn.functional.one_hot(torch.tensor(deck_index, dtype=int), self.num_cards * self.num_players).flatten()\n"
     ]
    },
    {
     "data": {
      "text/plain": [
       "tensor([6, 3, 2, 2])"
      ]
     },
     "execution_count": 2,
     "metadata": {},
     "output_type": "execute_result"
    }
   ],
   "source": [
    "game = Card_Game()\n",
    "\n",
    "for x in range(52):\n",
    "    moves = game.get_legal_moves()\n",
    "    i = torch.randint(len(moves), (1,))\n",
    "#     print(game.turn_counter, i, moves[i])\n",
    "    print(game.turn_counter, game.current_player)\n",
    "    chosen_move = moves[i]\n",
    "    game.play_card(chosen_move)\n",
    "\n",
    "game.tricks_won"
   ]
  },
  {
   "cell_type": "code",
   "execution_count": 3,
   "id": "d8481c64-fcb5-4652-b028-3ca0341ba975",
   "metadata": {},
   "outputs": [
    {
     "data": {
      "text/plain": [
       "tensor([[ 5,  3, 37, 11],\n",
       "        [38, 33, 36, 27],\n",
       "        [10,  9, 32, 12],\n",
       "        [ 4, 18, 25,  0],\n",
       "        [ 7, 20, 29,  6],\n",
       "        [35, 26, 34, 31],\n",
       "        [ 8, 47, 23, 19],\n",
       "        [46, 44, 45, 50],\n",
       "        [48, 41, 51,  1],\n",
       "        [24, 21, 17, 15],\n",
       "        [22, 13, 43, 39],\n",
       "        [40, 49, 30, 14],\n",
       "        [28, 16,  2, 42]])"
      ]
     },
     "execution_count": 3,
     "metadata": {},
     "output_type": "execute_result"
    }
   ],
   "source": [
    "game.state.nonzero()[:,1].unflatten(0, (13, 4))"
   ]
  }
 ],
 "metadata": {
  "kernelspec": {
   "display_name": "Python 3 (ipykernel)",
   "language": "python",
   "name": "python3"
  },
  "language_info": {
   "codemirror_mode": {
    "name": "ipython",
    "version": 3
   },
   "file_extension": ".py",
   "mimetype": "text/x-python",
   "name": "python",
   "nbconvert_exporter": "python",
   "pygments_lexer": "ipython3",
   "version": "3.11.7"
  }
 },
 "nbformat": 4,
 "nbformat_minor": 5
}

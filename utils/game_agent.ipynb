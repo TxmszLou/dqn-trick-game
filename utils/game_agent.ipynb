{
 "cells": [
  {
   "cell_type": "code",
   "execution_count": 15,
   "id": "9dba90aa-88af-4204-88ba-adef13c4fa6f",
   "metadata": {},
   "outputs": [],
   "source": [
    "import random\n",
    "import torch"
   ]
  },
  {
   "cell_type": "code",
   "execution_count": 457,
   "id": "1c496656-e2f9-4c0d-836c-497b18006821",
   "metadata": {},
   "outputs": [],
   "source": [
    "'''\n",
    "Parameters\n",
    "self.num_players: integer number of players\n",
    "self.num_cards: integer number of cards in each hand\n",
    "self.current_turn: two integers, the first is the current player and the second is the turn number\n",
    "self.current_suit: a character denoting the suit of the current trick in play, or None if there is no current trick\n",
    "self.hands: array of integer lists, one for each hand, where zeros denote voids\n",
    "self.state: integer torch tensor, where the (i, j) entry denotes the card played by the i-th player on the j-th turn\n",
    "self.tricks_won: torch integer tensor, where the i-th entry is the number of tricks won by the i-th player\n",
    "\n",
    "Methods:\n",
    "self.play_card(index): plays the card of corresponding index from the current player's hand\n",
    "self.get_suit(card): returns the suit of the card\n",
    "self.get_value(card): returns the relative value of the card\n",
    "'''\n",
    "class Card_Game:\n",
    "\n",
    "    def __init__(self, num_players, num_cards):\n",
    "        self.num_cards = num_cards\n",
    "        self.num_players = num_players\n",
    "        self.current_turn = [0, 0]\n",
    "        self.current_suit = None\n",
    "        self.hands = []\n",
    "        deck = [card for card in range(1, self.num_cards * self.num_players + 1)]\n",
    "        random.shuffle(deck)\n",
    "        for player in range(self.num_players):\n",
    "            self.hands.append(deck[num_cards * player: num_cards * (player+1)])\n",
    "        self.state = torch.zeros(self.num_players, self.num_cards)\n",
    "        self.tricks_won = torch.zeros(self.num_players)\n",
    "\n",
    "    '''\n",
    "    Input\n",
    "    index: the integer index of the card to be played from the current hand\n",
    "\n",
    "    Description\n",
    "    Replaces the card played with 0, changes the game state to reflect the played card, and changes the current turn\n",
    "    '''\n",
    "    def play_card(self, index):\n",
    "        card = self.hands[self.current_turn[0]][index]\n",
    "        # if card == 0:\n",
    "        assert card != 0\n",
    "        if not self.current_suit:\n",
    "            self.current_suit = self.get_suit(torch.tensor(card))\n",
    "        if self.current_suit != self.get_suit(torch.tensor(card)):\n",
    "            for other_card in self.hands[self.current_turn[0]]:\n",
    "                assert(self.get_suit(torch.tensor(other_card)) != self.current_suit)\n",
    "        \n",
    "        self.hands[self.current_turn[0]][index] = 0\n",
    "        self.state[*self.current_turn] = card\n",
    "        trick = self.state[:, self.current_turn[1]]\n",
    "\n",
    "        if not 0.0 in trick:\n",
    "            print('Trick done')\n",
    "            trick_winner = self.get_trick_winner(trick)\n",
    "            self.tricks_won[trick_winner] += 1\n",
    "            self.current_turn[1] += 1\n",
    "            self.current_turn[0] = trick_winner\n",
    "        elif self.current_turn[0] == self.num_players-1:\n",
    "            self.current_turn[0] = 0\n",
    "        else:\n",
    "            self.current_turn[0] += 1\n",
    "\n",
    "    \n",
    "    '''\n",
    "    Input\n",
    "    card: integer index of the card in the deck\n",
    "\n",
    "    returns: the suit of the specified card\n",
    "    '''\n",
    "    def get_suit(self, card):\n",
    "        suits = ['C', 'D', 'H', 'S']\n",
    "        return suits[((card - 1) / float(self.num_cards)).int()]\n",
    "\n",
    "    '''\n",
    "    Input\n",
    "    card: integer index of the card in the deck\n",
    "\n",
    "    returns: the relative value of the specified card\n",
    "    '''\n",
    "    def get_value(self, card):\n",
    "        return (card - 1) % self.num_cards\n",
    "\n",
    "    \n",
    "    '''\n",
    "    Input\n",
    "    trick: torch tensor of cards in the trick\n",
    "\n",
    "    returns: the index of the player who won the trick\n",
    "    '''\n",
    "    def get_trick_winner(self, trick):\n",
    "        trick_suit = self.get_suit(trick[0])\n",
    "        card_vals = []\n",
    "        for card in trick:\n",
    "            if self.get_suit(card) != trick_suit:\n",
    "                card_vals.append(0)\n",
    "            else:\n",
    "                card_vals.append(self.get_value(card))\n",
    "        return card_vals.index(max(card_vals))"
   ]
  },
  {
   "cell_type": "code",
   "execution_count": 459,
   "id": "fdabaabd-069c-4169-9d9f-f086d22becba",
   "metadata": {},
   "outputs": [
    {
     "data": {
      "text/plain": [
       "[[5, 12, 17, 3, 24, 23, 2, 7, 13, 20, 18, 9],\n",
       " [4, 11, 19, 14, 21, 1, 15, 22, 8, 10, 16, 6]]"
      ]
     },
     "execution_count": 459,
     "metadata": {},
     "output_type": "execute_result"
    }
   ],
   "source": [
    "game = Card_Game(num_players=2, num_cards=12)\n",
    "game.hands"
   ]
  },
  {
   "cell_type": "code",
   "execution_count": 461,
   "id": "30106413-758a-4d59-a3a0-3640a0b16732",
   "metadata": {},
   "outputs": [
    {
     "data": {
      "text/plain": [
       "tensor([[5., 0., 0., 0., 0., 0., 0., 0., 0., 0., 0., 0.],\n",
       "        [0., 0., 0., 0., 0., 0., 0., 0., 0., 0., 0., 0.]])"
      ]
     },
     "execution_count": 461,
     "metadata": {},
     "output_type": "execute_result"
    }
   ],
   "source": [
    "game.play_card(0)\n",
    "game.state"
   ]
  },
  {
   "cell_type": "code",
   "execution_count": 463,
   "id": "b60319d4-f65e-4dad-85ea-c39c1779ccfe",
   "metadata": {},
   "outputs": [
    {
     "data": {
      "text/plain": [
       "[[0, 12, 17, 3, 24, 23, 2, 7, 13, 20, 18, 9],\n",
       " [4, 11, 19, 14, 21, 1, 15, 22, 8, 10, 16, 6]]"
      ]
     },
     "execution_count": 463,
     "metadata": {},
     "output_type": "execute_result"
    }
   ],
   "source": [
    "game.hands"
   ]
  },
  {
   "cell_type": "code",
   "execution_count": 465,
   "id": "d7033223-528b-4a9f-b9df-40c35f67f617",
   "metadata": {},
   "outputs": [
    {
     "ename": "AssertionError",
     "evalue": "",
     "output_type": "error",
     "traceback": [
      "\u001b[1;31m---------------------------------------------------------------------------\u001b[0m",
      "\u001b[1;31mAssertionError\u001b[0m                            Traceback (most recent call last)",
      "Cell \u001b[1;32mIn[465], line 1\u001b[0m\n\u001b[1;32m----> 1\u001b[0m game\u001b[38;5;241m.\u001b[39mplay_card(\u001b[38;5;241m2\u001b[39m)\n\u001b[0;32m      2\u001b[0m game\u001b[38;5;241m.\u001b[39mstate\n",
      "Cell \u001b[1;32mIn[457], line 46\u001b[0m, in \u001b[0;36mCard_Game.play_card\u001b[1;34m(self, index)\u001b[0m\n\u001b[0;32m     44\u001b[0m \u001b[38;5;28;01mif\u001b[39;00m \u001b[38;5;28mself\u001b[39m\u001b[38;5;241m.\u001b[39mcurrent_suit \u001b[38;5;241m!=\u001b[39m \u001b[38;5;28mself\u001b[39m\u001b[38;5;241m.\u001b[39mget_suit(torch\u001b[38;5;241m.\u001b[39mtensor(card)):\n\u001b[0;32m     45\u001b[0m     \u001b[38;5;28;01mfor\u001b[39;00m other_card \u001b[38;5;129;01min\u001b[39;00m \u001b[38;5;28mself\u001b[39m\u001b[38;5;241m.\u001b[39mhands[\u001b[38;5;28mself\u001b[39m\u001b[38;5;241m.\u001b[39mcurrent_turn[\u001b[38;5;241m0\u001b[39m]]:\n\u001b[1;32m---> 46\u001b[0m         \u001b[38;5;28;01massert\u001b[39;00m(\u001b[38;5;28mself\u001b[39m\u001b[38;5;241m.\u001b[39mget_suit(torch\u001b[38;5;241m.\u001b[39mtensor(other_card)) \u001b[38;5;241m!=\u001b[39m \u001b[38;5;28mself\u001b[39m\u001b[38;5;241m.\u001b[39mcurrent_suit)\n\u001b[0;32m     48\u001b[0m \u001b[38;5;28mself\u001b[39m\u001b[38;5;241m.\u001b[39mhands[\u001b[38;5;28mself\u001b[39m\u001b[38;5;241m.\u001b[39mcurrent_turn[\u001b[38;5;241m0\u001b[39m]][index] \u001b[38;5;241m=\u001b[39m \u001b[38;5;241m0\u001b[39m\n\u001b[0;32m     49\u001b[0m \u001b[38;5;28mself\u001b[39m\u001b[38;5;241m.\u001b[39mstate[\u001b[38;5;241m*\u001b[39m\u001b[38;5;28mself\u001b[39m\u001b[38;5;241m.\u001b[39mcurrent_turn] \u001b[38;5;241m=\u001b[39m card\n",
      "\u001b[1;31mAssertionError\u001b[0m: "
     ]
    }
   ],
   "source": [
    "game.play_card(2)\n",
    "game.state"
   ]
  },
  {
   "cell_type": "code",
   "execution_count": 425,
   "id": "d0ce41aa-3074-4147-bc5b-8b74c2d39e29",
   "metadata": {},
   "outputs": [
    {
     "data": {
      "text/plain": [
       "tensor([1., 0.])"
      ]
     },
     "execution_count": 425,
     "metadata": {},
     "output_type": "execute_result"
    }
   ],
   "source": [
    "game.tricks_won"
   ]
  },
  {
   "cell_type": "code",
   "execution_count": 427,
   "id": "5f60e20e-9dea-4505-bfbf-3b227902d3e8",
   "metadata": {},
   "outputs": [
    {
     "data": {
      "text/plain": [
       "[0, 1]"
      ]
     },
     "execution_count": 427,
     "metadata": {},
     "output_type": "execute_result"
    }
   ],
   "source": [
    "game.current_turn"
   ]
  },
  {
   "cell_type": "code",
   "execution_count": null,
   "id": "e992f423-38c9-46b1-82f1-beb63c13c461",
   "metadata": {},
   "outputs": [],
   "source": []
  }
 ],
 "metadata": {
  "kernelspec": {
   "display_name": "Python 3 (ipykernel)",
   "language": "python",
   "name": "python3"
  },
  "language_info": {
   "codemirror_mode": {
    "name": "ipython",
    "version": 3
   },
   "file_extension": ".py",
   "mimetype": "text/x-python",
   "name": "python",
   "nbconvert_exporter": "python",
   "pygments_lexer": "ipython3",
   "version": "3.11.7"
  }
 },
 "nbformat": 4,
 "nbformat_minor": 5
}

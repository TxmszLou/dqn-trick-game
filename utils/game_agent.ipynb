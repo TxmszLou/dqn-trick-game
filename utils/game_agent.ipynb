{
 "cells": [
  {
   "cell_type": "code",
   "execution_count": 1,
   "id": "9dba90aa-88af-4204-88ba-adef13c4fa6f",
   "metadata": {},
   "outputs": [
    {
     "name": "stderr",
     "output_type": "stream",
     "text": [
      "/home/txmszlou/Work/erdos-workshop/deep-learning/dqn-trick-game/utils/card_engine.py:29: UserWarning: Failed to initialize NumPy: No module named 'numpy' (Triggered internally at ../torch/csrc/utils/tensor_numpy.cpp:84.)\n",
      "  def __init__(self, num_players=torch.tensor(4), num_cards=torch.tensor(13), trump=torch.tensor(3)):\n"
     ]
    }
   ],
   "source": [
    "# import random\n",
    "import torch\n",
    "from card_engine import Card_Game"
   ]
  },
  {
   "cell_type": "code",
   "execution_count": 9,
   "id": "1692c83f",
   "metadata": {},
   "outputs": [],
   "source": [
    "# a random agent that choose a random legal move and plays it\n",
    "# returns the chosen card to play : 0-51\n",
    "def random_agent(game):\n",
    "    moves = game.get_legal_moves()\n",
    "    i = torch.randint(len(moves), (1,))\n",
    "    chosen_move = moves[i]\n",
    "    # game.play_card(chosen_move)\n",
    "    return chosen_move\n",
    "\n",
    "# a card playing environment that maintains a game environment and is responsible for\n",
    "# using some agent to get to the next state from the current state, and computes the reward\n",
    "class Card_Env:\n",
    "    def __init__(self, num_players=torch.tensor(4), num_cards=torch.tensor(13), trump=torch.tensor(3), foreign_policy=random_agent):\n",
    "        self.game = Card_Game(num_players, num_cards, trump)\n",
    "        # foreign_policy : game -> deck_index\n",
    "        self.foreign_policy = foreign_policy\n",
    "    \n",
    "    # return observation, reward, terminated\n",
    "    def step(self, deck_index):\n",
    "        # step to the next state using the given foreign policy to play three turns in the game\n",
    "        # TODO: if try to step through an illegal move, the game ends immediately\n",
    "        #       may want to modify in the future\n",
    "\n",
    "        current_player = self.game.current_player\n",
    "        current_tricks_won = self.game.tricks_won[current_player]\n",
    "\n",
    "        # first play the current move\n",
    "        if not self.game.is_move_legal(deck_index):\n",
    "            print('player plays an illegal move')\n",
    "            return None, 0, True\n",
    "        \n",
    "        self.game.play_card(deck_index)\n",
    "\n",
    "        # let the next three players play using the foreign_policy\n",
    "        for i in range(3):\n",
    "            move = self.foreign_policy(self.game)\n",
    "            if not self.game.is_move_legal(move):\n",
    "                return None, 0, True\n",
    "            self.game.play_card(move)\n",
    "\n",
    "        # reward is 1 if the player won this trick, 0 otherwise\n",
    "        reward = 1 if self.game.tricks_won[current_player] > current_tricks_won else 0\n",
    "        \n",
    "        return self.game.get_network_input, reward, False"
   ]
  },
  {
   "cell_type": "code",
   "execution_count": 21,
   "id": "b38c4018",
   "metadata": {},
   "outputs": [
    {
     "name": "stdout",
     "output_type": "stream",
     "text": [
      "player move: tensor([18])\n",
      "player reward: 0\n",
      "player move: tensor([5])\n",
      "player reward: 0\n",
      "player move: tensor([24])\n",
      "player reward: 0\n",
      "player move: tensor([43])\n",
      "player reward: 0\n",
      "player move: tensor([50])\n",
      "player reward: 0\n",
      "player move: tensor([36])\n",
      "player reward: 0\n",
      "player move: tensor([33])\n",
      "player reward: 0\n",
      "player move: tensor([10])\n",
      "player reward: 0\n",
      "player move: tensor([19])\n",
      "player reward: 0\n",
      "player move: tensor([44])\n",
      "player reward: 0\n",
      "player move: tensor([49])\n",
      "player reward: 0\n",
      "player move: tensor([21])\n",
      "player reward: 0\n",
      "player move: tensor([16])\n",
      "player reward: 0\n"
     ]
    },
    {
     "data": {
      "text/plain": [
       "tensor([4, 3, 5, 1])"
      ]
     },
     "execution_count": 21,
     "metadata": {},
     "output_type": "execute_result"
    }
   ],
   "source": [
    "card_env = Card_Env()\n",
    "\n",
    "for x in range(13):\n",
    "    move = random_agent(card_env.game)\n",
    "    print(f'player move: {move}')\n",
    "    _, reward, is_terminated = card_env.step(move)\n",
    "\n",
    "    print(f'player reward: {reward}')\n",
    "\n",
    "    if is_terminated:\n",
    "        print('game ends')\n",
    "        break\n",
    "\n",
    "card_env.game.tricks_won\n"
   ]
  },
  {
   "cell_type": "code",
   "execution_count": 2,
   "id": "480a6e6e-b425-4163-ad24-37d3796eb8f8",
   "metadata": {},
   "outputs": [
    {
     "name": "stdout",
     "output_type": "stream",
     "text": [
      "tensor(0) tensor(0)\n",
      "tensor(1) tensor(1)\n",
      "tensor(2) tensor(2)\n",
      "tensor(3) tensor(3)\n",
      "tensor(4) tensor(1)\n",
      "tensor(5) tensor(2)\n",
      "tensor(6) tensor(3)\n",
      "tensor(7) tensor(0)\n",
      "tensor(8) tensor(3)\n",
      "tensor(9) tensor(0)\n",
      "tensor(10) tensor(1)\n",
      "tensor(11) tensor(2)\n",
      "tensor(12) tensor(1)\n",
      "tensor(13) tensor(2)\n",
      "tensor(14) tensor(3)\n",
      "tensor(15) tensor(0)\n",
      "tensor(16) tensor(2)\n",
      "tensor(17) tensor(3)\n",
      "tensor(18) tensor(0)\n",
      "tensor(19) tensor(1)\n",
      "tensor(20) tensor(3)\n",
      "tensor(21) tensor(0)\n",
      "tensor(22) tensor(1)\n",
      "tensor(23) tensor(2)\n",
      "tensor(24) tensor(1)\n",
      "tensor(25) tensor(2)\n",
      "tensor(26) tensor(3)\n",
      "tensor(27) tensor(0)\n",
      "tensor(28) tensor(3)\n",
      "tensor(29) tensor(0)\n",
      "tensor(30) tensor(1)\n",
      "tensor(31) tensor(2)\n",
      "tensor(32) tensor(0)\n",
      "tensor(33) tensor(1)\n",
      "tensor(34) tensor(2)\n",
      "tensor(35) tensor(3)\n",
      "tensor(36) tensor(0)\n",
      "tensor(37) tensor(1)\n",
      "tensor(38) tensor(2)\n",
      "tensor(39) tensor(3)\n",
      "tensor(40) tensor(1)\n",
      "tensor(41) tensor(2)\n",
      "tensor(42) tensor(3)\n",
      "tensor(43) tensor(0)\n",
      "tensor(44) tensor(3)\n",
      "tensor(45) tensor(0)\n",
      "tensor(46) tensor(1)\n",
      "tensor(47) tensor(2)\n",
      "tensor(48) tensor(3)\n",
      "tensor(49) tensor(0)\n",
      "tensor(50) tensor(1)\n",
      "tensor(51) tensor(2)\n"
     ]
    },
    {
     "name": "stderr",
     "output_type": "stream",
     "text": [
      "/home/txmszlou/Work/erdos-workshop/deep-learning/dqn-trick-game/utils/card_engine.py:63: UserWarning: To copy construct from a tensor, it is recommended to use sourceTensor.clone().detach() or sourceTensor.clone().detach().requires_grad_(True), rather than torch.tensor(sourceTensor).\n",
      "  card = torch.nn.functional.one_hot(torch.tensor(deck_index, dtype=int), self.num_cards * self.num_players).flatten()\n"
     ]
    },
    {
     "data": {
      "text/plain": [
       "tensor([2, 4, 1, 6])"
      ]
     },
     "execution_count": 2,
     "metadata": {},
     "output_type": "execute_result"
    }
   ],
   "source": [
    "game = Card_Game()\n",
    "\n",
    "\n",
    "for x in range(52):\n",
    "    moves = game.get_legal_moves()\n",
    "    i = torch.randint(len(moves), (1,))\n",
    "#     print(game.turn_counter, i, moves[i])\n",
    "    print(game.turn_counter, game.current_player)\n",
    "    chosen_move = moves[i]\n",
    "    game.play_card(chosen_move)\n",
    "\n",
    "game.tricks_won"
   ]
  },
  {
   "cell_type": "code",
   "execution_count": 4,
   "id": "7d82474e",
   "metadata": {},
   "outputs": [
    {
     "data": {
      "text/plain": [
       "3016"
      ]
     },
     "execution_count": 4,
     "metadata": {},
     "output_type": "execute_result"
    }
   ],
   "source": [
    "len(game.get_network_input())"
   ]
  },
  {
   "cell_type": "code",
   "execution_count": 3,
   "id": "d8481c64-fcb5-4652-b028-3ca0341ba975",
   "metadata": {},
   "outputs": [
    {
     "data": {
      "text/plain": [
       "tensor([[ 5,  3, 37, 11],\n",
       "        [38, 33, 36, 27],\n",
       "        [10,  9, 32, 12],\n",
       "        [ 4, 18, 25,  0],\n",
       "        [ 7, 20, 29,  6],\n",
       "        [35, 26, 34, 31],\n",
       "        [ 8, 47, 23, 19],\n",
       "        [46, 44, 45, 50],\n",
       "        [48, 41, 51,  1],\n",
       "        [24, 21, 17, 15],\n",
       "        [22, 13, 43, 39],\n",
       "        [40, 49, 30, 14],\n",
       "        [28, 16,  2, 42]])"
      ]
     },
     "execution_count": 3,
     "metadata": {},
     "output_type": "execute_result"
    }
   ],
   "source": [
    "game.state.nonzero()[:,1].unflatten(0, (13, 4))"
   ]
  }
 ],
 "metadata": {
  "kernelspec": {
   "display_name": "Python 3 (ipykernel)",
   "language": "python",
   "name": "python3"
  },
  "language_info": {
   "codemirror_mode": {
    "name": "ipython",
    "version": 3
   },
   "file_extension": ".py",
   "mimetype": "text/x-python",
   "name": "python",
   "nbconvert_exporter": "python",
   "pygments_lexer": "ipython3",
   "version": "3.11.8"
  }
 },
 "nbformat": 4,
 "nbformat_minor": 5
}
